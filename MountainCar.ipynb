{
 "cells": [
  {
   "cell_type": "code",
   "execution_count": 1,
   "metadata": {},
   "outputs": [],
   "source": [
    "import torch\n",
    "import torch.nn as nn\n",
    "import torch.nn.functional as F\n",
    "import torch.optim as optim\n",
    "import numpy as np\n",
    "from IPython.display import display\n",
    "import matplotlib.pyplot as plt\n",
    "from itertools import count\n",
    "import matplotlib\n",
    "import gym\n",
    "import gc\n",
    "import time\n",
    "from IPython.display import clear_output"
   ]
  },
  {
   "cell_type": "code",
   "execution_count": 2,
   "metadata": {
    "pycharm": {
     "name": "#%%\n"
    }
   },
   "outputs": [],
   "source": [
    "is_ipython = 'inline' in matplotlib.get_backend()\n",
    "if is_ipython: from IPython import display"
   ]
  },
  {
   "cell_type": "markdown",
   "metadata": {
    "pycharm": {
     "name": "#%% md\n"
    }
   },
   "source": [
    "## Deep-Q Network"
   ]
  },
  {
   "cell_type": "code",
   "execution_count": 9,
   "metadata": {
    "pycharm": {
     "name": "#%%\n"
    }
   },
   "outputs": [],
   "source": [
    "class DQN(nn.Module):\n",
    "    def __init__(self,\n",
    "                 input_dim,\n",
    "                 output_dim,\n",
    "                 hidden_dims=(32, 32),\n",
    "                 activation_fc=F.relu):\n",
    "        super(DQN, self).__init__()\n",
    "        self.activation_fc = activation_fc\n",
    "        self.input_layer = nn.Linear(input_dim, hidden_dims[0])\n",
    "        self.hidden_layers = nn.ModuleList()\n",
    "        for i in range(len(hidden_dims) - 1):\n",
    "            hidden_layer = nn.Linear(hidden_dims[i], hidden_dims[i + 1])\n",
    "            self.hidden_layers.append(hidden_layer)\n",
    "        self.output_layer = nn.Linear(hidden_dims[-1], output_dim)\n",
    "        self.device = torch.device(\"cuda:0\" if torch.cuda.is_available() else \"cpu\")\n",
    "        self.to(self.device)\n",
    "\n",
    "    def _format(self, state):\n",
    "        x = state\n",
    "        if not isinstance(x, torch.Tensor):\n",
    "            x = torch.tensor(x,\n",
    "                             device=self.device,\n",
    "                             dtype=torch.float32)\n",
    "            x = x.unsqueeze(0)\n",
    "        return x\n",
    "\n",
    "    def forward(self, state):\n",
    "        x = self._format(state)\n",
    "        x = self.activation_fc(self.input_layer(x))\n",
    "        for hidden_layer in self.hidden_layers:\n",
    "            x = self.activation_fc(hidden_layer(x))\n",
    "        x = self.output_layer(x)\n",
    "        return x\n",
    "\n",
    "    def load(self, experiences):\n",
    "        states, actions, rewards, new_states, is_dones = experiences\n",
    "        states = torch.tensor(states).float().to(self.device)\n",
    "        actions = torch.tensor(actions).long().to(self.device)\n",
    "        rewards = torch.tensor(rewards).float().to(self.device)\n",
    "        new_states = torch.tensor(new_states).float().to(self.device)\n",
    "        is_dones = torch.tensor(is_dones).float().to(self.device)\n",
    "        return states, actions, rewards, new_states, is_dones\n"
   ]
  },
  {
   "cell_type": "markdown",
   "metadata": {
    "pycharm": {
     "name": "#%% md\n"
    }
   },
   "source": [
    "## Greedy Strategy to be used as evaluation"
   ]
  },
  {
   "cell_type": "code",
   "execution_count": 10,
   "metadata": {
    "pycharm": {
     "name": "#%%\n"
    }
   },
   "outputs": [],
   "source": [
    "class GreedyStrategy():\n",
    "    def __init__(self):\n",
    "        self.exploratory_action_taken = False\n",
    "\n",
    "    def select_action(self, model, state):\n",
    "        with torch.no_grad():\n",
    "            q_values = model(state).cpu().detach().data.numpy().squeeze()\n",
    "            return np.argmax(q_values)\n"
   ]
  },
  {
   "cell_type": "markdown",
   "metadata": {
    "pycharm": {
     "name": "#%% md\n"
    }
   },
   "source": [
    "## Exponential Greedy Strategy"
   ]
  },
  {
   "cell_type": "code",
   "execution_count": 11,
   "metadata": {
    "pycharm": {
     "name": "#%%\n"
    }
   },
   "outputs": [],
   "source": [
    "class EGreedyExpStrategy():\n",
    "    def __init__(self, init_epsilon=1.0, min_epsilon=0.1, decay_steps=1000000):\n",
    "        self.epsilon = init_epsilon\n",
    "        self.init_epsilon = init_epsilon\n",
    "        self.decay_steps = decay_steps\n",
    "        self.min_epsilon = min_epsilon\n",
    "        self.epsilons = 0.01 / np.logspace(-2, 0, decay_steps, endpoint=False) - 0.01\n",
    "        self.epsilons = self.epsilons * (init_epsilon - min_epsilon) + min_epsilon\n",
    "        self.t = 0\n",
    "        self.exploratory_action_taken = None\n",
    "\n",
    "    def _epsilon_update(self):\n",
    "        self.epsilon = self.min_epsilon if self.t >= self.decay_steps else self.epsilons[self.t]\n",
    "        self.t += 1\n",
    "        return self.epsilon\n",
    "\n",
    "    def select_action(self, model, state):\n",
    "        self.exploratory_action_taken = False\n",
    "        with torch.no_grad():\n",
    "            q_values = model(state).detach().cpu().data.numpy().squeeze()\n",
    "\n",
    "        if np.random.rand() > self.epsilon:\n",
    "            action = np.argmax(q_values)\n",
    "            self.exploratory_action_taken = False\n",
    "        else:\n",
    "            action = np.random.randint(len(q_values))\n",
    "            self.exploratory_action_taken = True\n",
    "\n",
    "        self._epsilon_update()\n",
    "        return action\n"
   ]
  },
  {
   "cell_type": "code",
   "execution_count": 12,
   "metadata": {
    "pycharm": {
     "name": "#%%\n"
    }
   },
   "outputs": [
    {
     "data": {
      "text/plain": "<Figure size 432x288 with 1 Axes>",
      "image/png": "[encoded data removed]"
     },
     "metadata": {
      "needs_background": "light"
     },
     "output_type": "display_data"
    }
   ],
   "source": [
    "s = EGreedyExpStrategy()\n",
    "plt.plot([s._epsilon_update() for _ in range(100000)])\n",
    "plt.title('Epsilon-Greedy exponentially decaying epsilon value')\n",
    "plt.xticks(rotation=45)\n",
    "plt.show()"
   ]
  },
  {
   "cell_type": "markdown",
   "metadata": {
    "pycharm": {
     "name": "#%% md\n"
    }
   },
   "source": [
    "## Softmax Strategy"
   ]
  },
  {
   "cell_type": "code",
   "execution_count": 13,
   "metadata": {
    "pycharm": {
     "name": "#%%\n"
    }
   },
   "outputs": [],
   "source": [
    "class SoftMaxStrategy():\n",
    "    def __init__(self,\n",
    "                 init_temp=1.0,\n",
    "                 min_temp=0.1,\n",
    "                 exploration_ratio=0.95,\n",
    "                 max_steps=30000):\n",
    "        self.t = 0\n",
    "        self.init_temp = init_temp\n",
    "        self.exploration_ratio = exploration_ratio\n",
    "        self.min_temp = min_temp\n",
    "        self.max_steps = max_steps\n",
    "        self.exploratory_action_taken = None\n",
    "\n",
    "    def _update_temp(self):\n",
    "        temp = 1 - self.t / (self.max_steps * self.exploration_ratio)\n",
    "        temp = (self.init_temp - self.min_temp) * temp + self.min_temp\n",
    "        temp = np.clip(temp, self.min_temp, self.init_temp)\n",
    "        self.t += 1\n",
    "        return temp\n",
    "\n",
    "    def select_action(self, model, state):\n",
    "        self.exploratory_action_taken = False\n",
    "        temp = self._update_temp()\n",
    "\n",
    "        with torch.no_grad():\n",
    "            q_values = model(state).cpu().detach().data.numpy().squeeze()\n",
    "            scaled_qs = q_values/temp\n",
    "            norm_qs = scaled_qs - scaled_qs.max()\n",
    "            e = np.exp(norm_qs)\n",
    "            probs = e / np.sum(e)\n",
    "            assert np.isclose(probs.sum(), 1.0)\n",
    "\n",
    "        action = np.random.choice(np.arange(len(probs)), size=1, p=probs)[0]\n",
    "        self.exploratory_action_taken = action != np.argmax(q_values)\n",
    "        return action"
   ]
  },
  {
   "cell_type": "code",
   "execution_count": 14,
   "metadata": {
    "pycharm": {
     "name": "#%%\n"
    }
   },
   "outputs": [
    {
     "data": {
      "text/plain": "<Figure size 432x288 with 1 Axes>",
      "image/png": "[encoded data removed]"
     },
     "metadata": {
      "needs_background": "light"
     },
     "output_type": "display_data"
    }
   ],
   "source": [
    "s = SoftMaxStrategy()\n",
    "plt.plot([s._update_temp() for _ in range(50000)])\n",
    "plt.title('SoftMax linearly decaying temperature value')\n",
    "plt.xticks(rotation=45)\n",
    "plt.show()"
   ]
  },
  {
   "cell_type": "markdown",
   "metadata": {
    "pycharm": {
     "name": "#%% md\n"
    }
   },
   "source": [
    "## Replay Buffer"
   ]
  },
  {
   "cell_type": "code",
   "execution_count": 15,
   "metadata": {
    "pycharm": {
     "name": "#%%\n"
    }
   },
   "outputs": [],
   "source": [
    "class ReplayBuffer():\n",
    "    def __init__(self,\n",
    "                 max_size=10000,\n",
    "                 batch_size=64):\n",
    "        self.ss_mem = np.empty(shape=max_size, dtype=np.ndarray)\n",
    "        self.as_mem = np.empty(shape=max_size, dtype=np.ndarray)\n",
    "        self.rs_mem = np.empty(shape=max_size, dtype=np.ndarray)\n",
    "        self.ps_mem = np.empty(shape=max_size, dtype=np.ndarray)\n",
    "        self.ds_mem = np.empty(shape=max_size, dtype=np.ndarray)\n",
    "        self.max_size = max_size\n",
    "        self.batch_size = batch_size\n",
    "        self._idx = 0\n",
    "        self.size = 0\n",
    "\n",
    "    def store(self, sample):\n",
    "        # state, action, reward, next state, done\n",
    "        s, a, r, p, d = sample\n",
    "        self.ss_mem[self._idx] = s\n",
    "        self.as_mem[self._idx] = a\n",
    "        self.rs_mem[self._idx] = r\n",
    "        self.ps_mem[self._idx] = p\n",
    "        self.ds_mem[self._idx] = d\n",
    "        self._idx += 1\n",
    "        self._idx = self._idx % self.max_size\n",
    "        self.size += 1\n",
    "        self.size = min(self.size, self.max_size)\n",
    "\n",
    "    def sample(self, batch_size=None):\n",
    "        if batch_size is None:\n",
    "            batch_size = self.batch_size\n",
    "        idxs = np.random.choice(self.size, batch_size, replace=False)\n",
    "        experiences = np.vstack(self.ss_mem[idxs]), \\\n",
    "                      np.vstack(self.as_mem[idxs]), \\\n",
    "                      np.vstack(self.rs_mem[idxs]), \\\n",
    "                      np.vstack(self.ps_mem[idxs]), \\\n",
    "                      np.vstack(self.ds_mem[idxs])\n",
    "        return experiences\n",
    "\n",
    "    def __len__(self):\n",
    "        return self.size\n"
   ]
  },
  {
   "cell_type": "markdown",
   "metadata": {
    "pycharm": {
     "name": "#%% md\n"
    }
   },
   "source": [
    "## Plotting Function"
   ]
  },
  {
   "cell_type": "code",
   "execution_count": 16,
   "metadata": {
    "pycharm": {
     "name": "#%%\n"
    }
   },
   "outputs": [],
   "source": [
    "def plot(train_values, eval_values, moving_avg_period):\n",
    "    plt.figure(2)\n",
    "    plt.clf()\n",
    "    plt.title('Training...')\n",
    "    plt.xlabel('Episode')\n",
    "    plt.ylabel('Duration')\n",
    "    plt.plot(train_values, color=\"black\", label=\"training\")\n",
    "\n",
    "    training_avg = get_moving_average(moving_avg_period, train_values)\n",
    "    evaluation_avg = get_moving_average(moving_avg_period, eval_values)\n",
    "    plt.plot(training_avg, color=\"blue\", label=\"train avg\")\n",
    "    plt.plot(evaluation_avg, color=\"red\", label=\"eval avg\")\n",
    "    plt.legend(loc=\"upper left\")\n",
    "    plt.pause(0.001)\n",
    "    print(f\"Episode {len(train_values)} \\n\"\n",
    "      f\" {moving_avg_period} episode train avg: {training_avg[-1]} \\n\"\n",
    "      f\" {moving_avg_period} episode evaluation avg: {evaluation_avg[-1]} \\n\"\n",
    "      f\" loss: {agent._loss}\")\n",
    "    if is_ipython: display.clear_output(wait=True)\n",
    "\n",
    "def get_moving_average(period, values):\n",
    "    values = torch.tensor(values, dtype=torch.float)\n",
    "    if len(values) >= period:\n",
    "        moving_avg = values.unfold(dimension=0, size=period, step=1) \\\n",
    "            .mean(dim=1).flatten(start_dim=0)\n",
    "        moving_avg = torch.cat((torch.zeros(period-1), moving_avg))\n",
    "        return moving_avg.numpy()\n",
    "    else:\n",
    "        moving_avg = torch.zeros(len(values)) + 200\n",
    "        return moving_avg.numpy()\n"
   ]
  },
  {
   "cell_type": "markdown",
   "metadata": {
    "pycharm": {
     "name": "#%% md\n"
    }
   },
   "source": [
    "## DQN Agent with the Default Reward\n",
    "The reward is -1 if the car hasn't reached the goal, 0 if it has reached the goal. The maximum steps in an episode is 200."
   ]
  },
  {
   "cell_type": "code",
   "execution_count": 17,
   "metadata": {
    "pycharm": {
     "name": "#%%\n"
    }
   },
   "outputs": [],
   "source": [
    "class AgentDQN:\n",
    "    def __init__(self,\n",
    "                 env,\n",
    "                 training_strategy,\n",
    "                 evaluation_strategy,\n",
    "                 replay_buffer,\n",
    "                 online_model,\n",
    "                 target_model,\n",
    "                 optimizer,\n",
    "                 lr,\n",
    "                 gamma,\n",
    "                 n_warmup_batches,\n",
    "                 update_target_every_steps,\n",
    "                 max_episodes,\n",
    "                 moving_average_period\n",
    "                 ):\n",
    "        self.env = env\n",
    "        self.training_strategy = training_strategy\n",
    "        self.evaluation_strategy = evaluation_strategy\n",
    "        self.replay_buffer = replay_buffer\n",
    "        self.online_model = online_model\n",
    "        self.target_model = target_model\n",
    "        for target, online in zip(self.target_model.parameters(), self.online_model.parameters()):\n",
    "            target.data.copy_(online.data)\n",
    "        self.optimizer = optimizer\n",
    "        self.value_optimizer = optimizer(self.online_model.parameters(), lr=lr)\n",
    "        self.gamma = gamma\n",
    "        self.n_warmup_batches = n_warmup_batches\n",
    "        self.update_target_every_steps = update_target_every_steps\n",
    "        self.max_episodes = max_episodes\n",
    "        self.moving_average_period = moving_average_period\n",
    "        self.episode_timestep = []\n",
    "        self.episode_reward = []\n",
    "        self.episode_seconds = []\n",
    "        self.evaluation_scores = []\n",
    "        self.episode_exploration = []\n",
    "        self._loss = 0.0\n",
    "\n",
    "    def interaction_step(self, state, env):\n",
    "        action = self.training_strategy.select_action(self.online_model, state)\n",
    "        new_state, reward, is_done, info = env.step(action)\n",
    "        is_truncated = 'TimeLimit.truncated' in info and info['TimeLimit.truncated']\n",
    "        is_failure = is_done and not is_truncated\n",
    "        experience = (state, action, reward, new_state, float(is_failure))\n",
    "        self.replay_buffer.store(experience)\n",
    "        self.episode_reward[-1] += reward\n",
    "        self.episode_timestep[-1] += 1\n",
    "        self.episode_exploration[-1] += int(self.training_strategy.exploratory_action_taken)\n",
    "        return new_state, is_done\n",
    "\n",
    "    def optimize_model(self, experiences):\n",
    "        states, actions, rewards, next_states, is_dones = experiences\n",
    "\n",
    "        max_a_q_sp = self.target_model(next_states).detach().max(1)[0].unsqueeze(1)\n",
    "        target_q_sa = rewards + (self.gamma * max_a_q_sp * (1 - is_dones))\n",
    "        q_sa = self.online_model(states).gather(1, actions)\n",
    "\n",
    "        #td_error = q_sa - target_q_sa\n",
    "        #value_loss = td_error.pow(2).mul(0.5).mean()\n",
    "        value_loss = F.mse_loss(q_sa, target_q_sa)\n",
    "        self._loss = value_loss\n",
    "        self.value_optimizer.zero_grad()\n",
    "        value_loss.backward()\n",
    "        self.value_optimizer.step()\n",
    "\n",
    "    def evaluate(self, eval_policy_model, eval_env, n_episodes=1):\n",
    "        rs = []\n",
    "        step = []\n",
    "        for _ in range(n_episodes):\n",
    "            s, d = eval_env.reset(), False\n",
    "            rs.append(0)\n",
    "            step.append(0)\n",
    "            for _ in count():\n",
    "                a = self.evaluation_strategy.select_action(eval_policy_model, s)\n",
    "                s, r, d, _ = eval_env.step(a)\n",
    "                rs[-1] += r\n",
    "                step[-1] += 1\n",
    "                if d: break\n",
    "        return np.mean(step), np.std(step)"
   ]
  },
  {
   "cell_type": "code",
   "execution_count": 18,
   "metadata": {
    "pycharm": {
     "name": "#%%\n"
    }
   },
   "outputs": [],
   "source": [
    "agent = AgentDQN(\n",
    "    env = gym.make(\"MountainCar-v0\"),\n",
    "    training_strategy = EGreedyExpStrategy(init_epsilon=1.0, min_epsilon=0.1, decay_steps=1000000),\n",
    "    evaluation_strategy = GreedyStrategy(),\n",
    "    replay_buffer = ReplayBuffer(max_size=100000, batch_size=64),\n",
    "    online_model = DQN(2, 3, hidden_dims=(128,128)),\n",
    "    target_model = DQN(2, 3, hidden_dims=(128,128)),\n",
    "    optimizer = optim.RMSprop,\n",
    "    lr = 0.001,\n",
    "    gamma = 0.99,\n",
    "    n_warmup_batches = 5,\n",
    "    update_target_every_steps = 50,\n",
    "    max_episodes = 300,\n",
    "    moving_average_period = 50\n",
    ")"
   ]
  },
  {
   "cell_type": "markdown",
   "metadata": {
    "pycharm": {
     "name": "#%% md\n"
    }
   },
   "source": [
    "The problem with the default reward is that even with random actions (exploration), the agent struggles to get even one success, so the reward is constantly 0, thus the q-values are not updating correctly."
   ]
  },
  {
   "cell_type": "code",
   "execution_count": 19,
   "metadata": {
    "pycharm": {
     "name": "#%%\n"
    }
   },
   "outputs": [
    {
     "data": {
      "text/plain": "<Figure size 432x288 with 1 Axes>",
      "image/png": "[encoded data removed]"
     },
     "metadata": {
      "needs_background": "light"
     },
     "output_type": "display_data"
    },
    {
     "name": "stdout",
     "output_type": "stream",
     "text": [
      "Episode 300 \n",
      " 50 episode train avg: 200.0 \n",
      " 50 episode evaluation avg: 200.0 \n",
      " loss: 0.06814752519130707\n"
     ]
    }
   ],
   "source": [
    "for episode in range(1, agent.max_episodes + 1):\n",
    "    state, is_done = agent.env.reset(), False\n",
    "    agent.env.render()\n",
    "    agent.episode_reward.append(0.0)\n",
    "    agent.episode_timestep.append(0.0)\n",
    "    agent.episode_exploration.append(0.0)\n",
    "\n",
    "    for step in count():\n",
    "        state, is_done = agent.interaction_step(state, agent.env)\n",
    "        min_samples = agent.replay_buffer.batch_size * agent.n_warmup_batches\n",
    "        if len(agent.replay_buffer) > min_samples:\n",
    "            experiences = agent.replay_buffer.sample()\n",
    "            experiences = agent.online_model.load(experiences)\n",
    "            agent.optimize_model(experiences)\n",
    "\n",
    "        if np.sum(agent.episode_timestep) % agent.update_target_every_steps == 0:\n",
    "            for target, online in zip(agent.target_model.parameters(), agent.online_model.parameters()):\n",
    "                target.data.copy_(online.data)\n",
    "\n",
    "        if is_done:\n",
    "            evaluation_score, _ = agent.evaluate(agent.online_model, agent.env, n_episodes=5)\n",
    "            agent.evaluation_scores.append(evaluation_score)\n",
    "            plot(agent.episode_timestep, agent.evaluation_scores, agent.moving_average_period)\n",
    "            break\n",
    "agent.env.close()"
   ]
  },
  {
   "cell_type": "code",
   "execution_count": 20,
   "metadata": {
    "pycharm": {
     "name": "#%%\n"
    }
   },
   "outputs": [
    {
     "data": {
      "text/plain": "0.7737229615744537"
     },
     "execution_count": 20,
     "metadata": {},
     "output_type": "execute_result"
    }
   ],
   "source": [
    "agent.training_strategy.epsilon"
   ]
  },
  {
   "cell_type": "markdown",
   "metadata": {
    "pycharm": {
     "name": "#%% md\n"
    }
   },
   "source": [
    "## DQN Agent with Optimised Reward\n",
    "\n",
    "The reward is the distance between the next state of the car's position and the current state of the car's position. This encourages the agent to move further. Also give a large reward of 20 when the agent reaches the goal, to prevent agent trying to use the maximum steps to cover as much distance as possible without reaching the goal (so the episode doesn't end)"
   ]
  },
  {
   "cell_type": "code",
   "execution_count": 21,
   "metadata": {
    "pycharm": {
     "name": "#%%\n"
    }
   },
   "outputs": [],
   "source": [
    "class AgentDQN:\n",
    "    def __init__(self,\n",
    "                 env,\n",
    "                 training_strategy,\n",
    "                 evaluation_strategy,\n",
    "                 replay_buffer,\n",
    "                 online_model,\n",
    "                 target_model,\n",
    "                 optimizer,\n",
    "                 lr,\n",
    "                 gamma,\n",
    "                 n_warmup_batches,\n",
    "                 update_target_every_steps,\n",
    "                 max_episodes,\n",
    "                 moving_average_period\n",
    "                 ):\n",
    "        self.env = env\n",
    "        self.training_strategy = training_strategy\n",
    "        self.evaluation_strategy = evaluation_strategy\n",
    "        self.replay_buffer = replay_buffer\n",
    "        self.online_model = online_model\n",
    "        self.target_model = target_model\n",
    "        for target, online in zip(self.target_model.parameters(), self.online_model.parameters()):\n",
    "            target.data.copy_(online.data)\n",
    "        self.optimizer = optimizer\n",
    "        self.value_optimizer = optimizer(self.online_model.parameters(), lr=lr)\n",
    "        self.gamma = gamma\n",
    "        self.n_warmup_batches = n_warmup_batches\n",
    "        self.update_target_every_steps = update_target_every_steps\n",
    "        self.max_episodes = max_episodes\n",
    "        self.moving_average_period = moving_average_period\n",
    "        self.episode_timestep = []\n",
    "        self.episode_reward = []\n",
    "        self.episode_seconds = []\n",
    "        self.evaluation_scores = []\n",
    "        self.episode_exploration = []\n",
    "        self._loss = 0.0\n",
    "\n",
    "    def interaction_step(self, state, env):\n",
    "        action = self.training_strategy.select_action(self.online_model, state)\n",
    "        new_state, reward, is_done, info = env.step(action)\n",
    "        reward = 20 if new_state[0]>=0.5 else abs(new_state[0] - state[0])\n",
    "        is_truncated = 'TimeLimit.truncated' in info and info['TimeLimit.truncated']\n",
    "        is_failure = is_done and not is_truncated\n",
    "        experience = (state, action, reward, new_state, float(is_failure))\n",
    "        self.replay_buffer.store(experience)\n",
    "        self.episode_reward[-1] += reward\n",
    "        self.episode_timestep[-1] += 1\n",
    "        self.episode_exploration[-1] += int(self.training_strategy.exploratory_action_taken)\n",
    "        return new_state, is_done\n",
    "\n",
    "    def optimize_model(self, experiences):\n",
    "        states, actions, rewards, next_states, is_dones = experiences\n",
    "\n",
    "        max_a_q_sp = self.target_model(next_states).detach().max(1)[0].unsqueeze(1)\n",
    "        target_q_sa = rewards + (self.gamma * max_a_q_sp * (1 - is_dones))\n",
    "        q_sa = self.online_model(states).gather(1, actions)\n",
    "\n",
    "        #td_error = q_sa - target_q_sa\n",
    "        #value_loss = td_error.pow(2).mul(0.5).mean()\n",
    "        value_loss = F.mse_loss(q_sa, target_q_sa)\n",
    "        self._loss = value_loss\n",
    "        self.value_optimizer.zero_grad()\n",
    "        value_loss.backward()\n",
    "        self.value_optimizer.step()\n",
    "\n",
    "    def evaluate(self, eval_policy_model, eval_env, n_episodes=1):\n",
    "        rs = []\n",
    "        step = []\n",
    "        for _ in range(n_episodes):\n",
    "            s, d = eval_env.reset(), False\n",
    "            rs.append(0)\n",
    "            step.append(0)\n",
    "            for _ in count():\n",
    "                a = self.evaluation_strategy.select_action(eval_policy_model, s)\n",
    "                s, r, d, _ = eval_env.step(a)\n",
    "                rs[-1] += r\n",
    "                step[-1] += 1\n",
    "                if d: break\n",
    "        return np.mean(step), np.std(step)"
   ]
  },
  {
   "cell_type": "code",
   "execution_count": 22,
   "metadata": {
    "pycharm": {
     "name": "#%%\n"
    }
   },
   "outputs": [],
   "source": [
    "agent = AgentDQN(\n",
    "    env = gym.make(\"MountainCar-v0\"),\n",
    "    training_strategy = EGreedyExpStrategy(init_epsilon=1.0, min_epsilon=0.01, decay_steps=50000),\n",
    "    evaluation_strategy = GreedyStrategy(),\n",
    "    replay_buffer = ReplayBuffer(max_size=100000, batch_size=64),\n",
    "    online_model = DQN(2, 3, hidden_dims=(128,128)),\n",
    "    target_model = DQN(2, 3, hidden_dims=(128,128)),\n",
    "    optimizer = optim.RMSprop,\n",
    "    lr = 0.001,\n",
    "    gamma = 0.99,\n",
    "    n_warmup_batches = 5,\n",
    "    update_target_every_steps = 50,\n",
    "    max_episodes = 500,\n",
    "    moving_average_period = 50\n",
    ")"
   ]
  },
  {
   "cell_type": "markdown",
   "metadata": {
    "pycharm": {
     "name": "#%% md\n"
    }
   },
   "source": [
    "The duration is the number of steps the agent takes to reach the goal. The aim is to ask the agent to reach the goal with as fewer steps as possible. On average, the agent takes 112 steps to reach the goal."
   ]
  },
  {
   "cell_type": "code",
   "execution_count": 23,
   "metadata": {
    "pycharm": {
     "name": "#%%\n"
    }
   },
   "outputs": [
    {
     "data": {
      "text/plain": "<Figure size 432x288 with 1 Axes>",
      "image/png": "[encoded data removed]"
     },
     "metadata": {
      "needs_background": "light"
     },
     "output_type": "display_data"
    },
    {
     "name": "stdout",
     "output_type": "stream",
     "text": [
      "Episode 260 \n",
      " 50 episode train avg: 118.91999816894531 \n",
      " 50 episode evaluation avg: 112.43998718261719 \n",
      " loss: 0.01685241237282753\n"
     ]
    }
   ],
   "source": [
    "for episode in range(1, agent.max_episodes + 1):\n",
    "    state, is_done = agent.env.reset(), False\n",
    "    agent.env.render() # can comment this out as doesn't offer too much value, the car moves too quickly for human eye to tell what's going on\n",
    "    agent.episode_reward.append(0.0)\n",
    "    agent.episode_timestep.append(0.0)\n",
    "    agent.episode_exploration.append(0.0)\n",
    "\n",
    "    for step in count():\n",
    "        state, is_done = agent.interaction_step(state, agent.env)\n",
    "        min_samples = agent.replay_buffer.batch_size * agent.n_warmup_batches\n",
    "        if len(agent.replay_buffer) > min_samples:\n",
    "            experiences = agent.replay_buffer.sample()\n",
    "            experiences = agent.online_model.load(experiences)\n",
    "            agent.optimize_model(experiences)\n",
    "\n",
    "        if np.sum(agent.episode_timestep) % agent.update_target_every_steps == 0:\n",
    "            for target, online in zip(agent.target_model.parameters(), agent.online_model.parameters()):\n",
    "                target.data.copy_(online.data)\n",
    "\n",
    "        if is_done:\n",
    "            evaluation_score, _ = agent.evaluate(agent.online_model, agent.env, n_episodes=5)\n",
    "            agent.evaluation_scores.append(evaluation_score)\n",
    "            plot(agent.episode_timestep, agent.evaluation_scores, agent.moving_average_period)\n",
    "            break\n",
    "\n",
    "    if np.mean(agent.episode_timestep[-agent.moving_average_period:]) < 120:\n",
    "        agent.env.close() # can comment this out\n",
    "        gc.collect()\n",
    "        break"
   ]
  },
  {
   "cell_type": "code",
   "execution_count": 24,
   "metadata": {
    "pycharm": {
     "name": "#%%\n"
    }
   },
   "outputs": [
    {
     "data": {
      "text/plain": "0.02547202873577057"
     },
     "execution_count": 24,
     "metadata": {},
     "output_type": "execute_result"
    }
   ],
   "source": [
    "agent.training_strategy.epsilon"
   ]
  },
  {
   "cell_type": "markdown",
   "metadata": {
    "pycharm": {
     "name": "#%% md\n"
    }
   },
   "source": [
    "## Watching the trained agent to play 5 episodes"
   ]
  },
  {
   "cell_type": "code",
   "execution_count": 25,
   "metadata": {
    "pycharm": {
     "name": "#%%\n"
    }
   },
   "outputs": [
    {
     "name": "stdout",
     "output_type": "stream",
     "text": [
      "Episode 1: took 91.0 steps\n",
      "Episode 2: took 117.0 steps\n",
      "Episode 3: took 117.0 steps\n",
      "Episode 4: took 110.0 steps\n",
      "Episode 5: took 114.0 steps\n"
     ]
    }
   ],
   "source": [
    "for episode in range (5):\n",
    "    s, d = agent.env.reset(), False\n",
    "    duration = 0.0\n",
    "    time.sleep(1)\n",
    "\n",
    "    for step in count():\n",
    "        agent.env.render()\n",
    "        time.sleep(0.05)\n",
    "\n",
    "        a = agent.evaluation_strategy.select_action(agent.online_model, s)\n",
    "        s, r, d, _ = agent.env.step(a)\n",
    "        duration += 1\n",
    "\n",
    "        if d:\n",
    "            print(f\"Episode {episode+1}: took {duration} steps\")\n",
    "            time.sleep(1)\n",
    "            agent.env.close()\n",
    "            break"
   ]
  },
  {
   "cell_type": "markdown",
   "metadata": {
    "pycharm": {
     "name": "#%% md\n"
    }
   },
   "source": [
    "## Double Deep-Q Network Agent with Optimised Reward"
   ]
  },
  {
   "cell_type": "code",
   "execution_count": 26,
   "metadata": {
    "pycharm": {
     "name": "#%%\n"
    }
   },
   "outputs": [],
   "source": [
    "class AgentDDQN:\n",
    "    def __init__(self,\n",
    "                 env,\n",
    "                 training_strategy,\n",
    "                 evaluation_strategy,\n",
    "                 replay_buffer,\n",
    "                 online_model,\n",
    "                 target_model,\n",
    "                 optimizer,\n",
    "                 lr,\n",
    "                 gamma,\n",
    "                 n_warmup_batches,\n",
    "                 update_target_every_steps,\n",
    "                 max_episodes,\n",
    "                 moving_average_period\n",
    "                 ):\n",
    "        self.env = env\n",
    "        self.training_strategy = training_strategy\n",
    "        self.evaluation_strategy = evaluation_strategy\n",
    "        self.replay_buffer = replay_buffer\n",
    "        self.online_model = online_model\n",
    "        self.target_model = target_model\n",
    "        for target, online in zip(self.target_model.parameters(), self.online_model.parameters()):\n",
    "            target.data.copy_(online.data)\n",
    "        self.optimizer = optimizer\n",
    "        self.value_optimizer = optimizer(self.online_model.parameters(), lr=lr)\n",
    "        self.gamma = gamma\n",
    "        self.n_warmup_batches = n_warmup_batches\n",
    "        self.update_target_every_steps = update_target_every_steps\n",
    "        self.max_episodes = max_episodes\n",
    "        self.moving_average_period = moving_average_period\n",
    "        self.episode_timestep = []\n",
    "        self.episode_reward = []\n",
    "        self.episode_seconds = []\n",
    "        self.evaluation_scores = []\n",
    "        self.episode_exploration = []\n",
    "        self._loss = 0.0\n",
    "\n",
    "    def interaction_step(self, state, env):\n",
    "        action = self.training_strategy.select_action(self.online_model, state)\n",
    "        new_state, reward, is_done, info = env.step(action)\n",
    "        reward = 20 if new_state[0]>=0.5 else abs(new_state[0] - state[0])\n",
    "        is_truncated = 'TimeLimit.truncated' in info and info['TimeLimit.truncated']\n",
    "        is_failure = is_done and not is_truncated\n",
    "        experience = (state, action, reward, new_state, float(is_failure))\n",
    "        self.replay_buffer.store(experience)\n",
    "        self.episode_reward[-1] += reward\n",
    "        self.episode_timestep[-1] += 1\n",
    "        self.episode_exploration[-1] += int(self.training_strategy.exploratory_action_taken)\n",
    "        return new_state, is_done\n",
    "\n",
    "    def optimize_model(self, experiences):\n",
    "        states, actions, rewards, next_states, is_dones = experiences\n",
    "        batch_size = len(is_dones)\n",
    "\n",
    "        argmax_a_q_sp = self.online_model(next_states).max(1)[1]\n",
    "        q_sp = self.target_model(next_states).detach()\n",
    "        max_a_q_sp = q_sp[np.arange(batch_size), argmax_a_q_sp].unsqueeze(1)\n",
    "        target_q_sa = rewards + (self.gamma * max_a_q_sp * (1 - is_dones))\n",
    "        q_sa = self.online_model(states).gather(1, actions)\n",
    "\n",
    "        #td_error = q_sa - target_q_sa\n",
    "        #value_loss = td_error.pow(2).mul(0.5).mean()\n",
    "        value_loss = F.mse_loss(q_sa, target_q_sa)\n",
    "        self._loss = value_loss\n",
    "        self.value_optimizer.zero_grad()\n",
    "        value_loss.backward()\n",
    "        self.value_optimizer.step()\n",
    "\n",
    "    def evaluate(self, eval_policy_model, eval_env, n_episodes=1):\n",
    "        rs = []\n",
    "        step = []\n",
    "        for _ in range(n_episodes):\n",
    "            s, d = eval_env.reset(), False\n",
    "            rs.append(0)\n",
    "            step.append(0)\n",
    "            for _ in count():\n",
    "                a = self.evaluation_strategy.select_action(eval_policy_model, s)\n",
    "                s, r, d, _ = eval_env.step(a)\n",
    "                rs[-1] += r\n",
    "                step[-1] += 1\n",
    "                if d: break\n",
    "        return np.mean(step), np.std(step)\n"
   ]
  },
  {
   "cell_type": "code",
   "execution_count": 27,
   "metadata": {
    "pycharm": {
     "name": "#%%\n"
    }
   },
   "outputs": [],
   "source": [
    "agent = AgentDDQN(\n",
    "    env = gym.make(\"MountainCar-v0\"),\n",
    "    training_strategy = EGreedyExpStrategy(init_epsilon=1.0, min_epsilon=0.01, decay_steps=50000),\n",
    "    evaluation_strategy = GreedyStrategy(),\n",
    "    replay_buffer = ReplayBuffer(max_size=100000, batch_size=64),\n",
    "    online_model = DQN(2, 3, hidden_dims=(128,128)),\n",
    "    target_model = DQN(2, 3, hidden_dims=(128,128)),\n",
    "    optimizer = optim.RMSprop,\n",
    "    lr = 0.001,\n",
    "    gamma = 0.99,\n",
    "    n_warmup_batches = 5,\n",
    "    update_target_every_steps = 50,\n",
    "    max_episodes = 500,\n",
    "    moving_average_period = 50\n",
    ")\n"
   ]
  },
  {
   "cell_type": "code",
   "execution_count": 28,
   "metadata": {
    "pycharm": {
     "name": "#%%\n"
    }
   },
   "outputs": [
    {
     "data": {
      "text/plain": "<Figure size 432x288 with 1 Axes>",
      "image/png": "[encoded data removed]"
     },
     "metadata": {
      "needs_background": "light"
     },
     "output_type": "display_data"
    },
    {
     "name": "stdout",
     "output_type": "stream",
     "text": [
      "Episode 492 \n",
      " 50 episode train avg: 119.86000061035156 \n",
      " 50 episode evaluation avg: 115.86799621582031 \n",
      " loss: 0.03894433751702309\n"
     ]
    }
   ],
   "source": [
    "for episode in range(1, agent.max_episodes + 1):\n",
    "    state, is_done = agent.env.reset(), False\n",
    "    #agent.env.render() # can comment this out as doesn't offer too much value, the car moves too quickly for human eye to tell what's going on\n",
    "    agent.episode_reward.append(0.0)\n",
    "    agent.episode_timestep.append(0.0)\n",
    "    agent.episode_exploration.append(0.0)\n",
    "\n",
    "    for step in count():\n",
    "        state, is_done = agent.interaction_step(state, agent.env)\n",
    "        min_samples = agent.replay_buffer.batch_size * agent.n_warmup_batches\n",
    "        if len(agent.replay_buffer) > min_samples:\n",
    "            experiences = agent.replay_buffer.sample()\n",
    "            experiences = agent.online_model.load(experiences)\n",
    "            agent.optimize_model(experiences)\n",
    "\n",
    "        if np.sum(agent.episode_timestep) % agent.update_target_every_steps == 0:\n",
    "            for target, online in zip(agent.target_model.parameters(), agent.online_model.parameters()):\n",
    "                target.data.copy_(online.data)\n",
    "\n",
    "        if is_done:\n",
    "            evaluation_score, _ = agent.evaluate(agent.online_model, agent.env, n_episodes=5)\n",
    "            agent.evaluation_scores.append(evaluation_score)\n",
    "            plot(agent.episode_timestep, agent.evaluation_scores, agent.moving_average_period)\n",
    "            break\n",
    "\n",
    "    if np.mean(agent.episode_timestep[-agent.moving_average_period:]) < 120:\n",
    "        #agent.env.close() # can comment this out\n",
    "        gc.collect()\n",
    "        break"
   ]
  },
  {
   "cell_type": "markdown",
   "metadata": {
    "pycharm": {
     "name": "#%% md\n"
    }
   },
   "source": [
    "## Watching the trained agent to play 5 episodes"
   ]
  },
  {
   "cell_type": "code",
   "execution_count": 29,
   "metadata": {
    "pycharm": {
     "name": "#%%\n"
    }
   },
   "outputs": [
    {
     "name": "stdout",
     "output_type": "stream",
     "text": [
      "Episode 1: took 154.0 steps\n",
      "Episode 2: took 121.0 steps\n",
      "Episode 3: took 120.0 steps\n",
      "Episode 4: took 114.0 steps\n",
      "Episode 5: took 164.0 steps\n"
     ]
    }
   ],
   "source": [
    "for episode in range (5):\n",
    "    s, d = agent.env.reset(), False\n",
    "    duration = 0.0\n",
    "    time.sleep(1)\n",
    "\n",
    "    for step in count():\n",
    "        agent.env.render()\n",
    "        time.sleep(0.05)\n",
    "\n",
    "        a = agent.evaluation_strategy.select_action(agent.online_model, s)\n",
    "        s, r, d, _ = agent.env.step(a)\n",
    "        duration += 1\n",
    "\n",
    "        if d:\n",
    "            print(f\"Episode {episode+1}: took {duration} steps\")\n",
    "            time.sleep(1)\n",
    "            agent.env.close()\n",
    "            break\n"
   ]
  }
 ],
 "metadata": {
  "kernelspec": {
   "display_name": "Python 3 (ipykernel)",
   "language": "python",
   "name": "python3"
  },
  "language_info": {
   "codemirror_mode": {
    "name": "ipython",
    "version": 3
   },
   "file_extension": ".py",
   "mimetype": "text/x-python",
   "name": "python",
   "nbconvert_exporter": "python",
   "pygments_lexer": "ipython3",
   "version": "3.9.7"
  }
 },
 "nbformat": 4,
 "nbformat_minor": 1
}